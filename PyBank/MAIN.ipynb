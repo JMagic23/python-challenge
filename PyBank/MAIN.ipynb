{
 "cells": [
  {
   "cell_type": "code",
   "execution_count": 52,
   "id": "8027bc7e-c811-4ee6-9670-b093fc7f5cda",
   "metadata": {},
   "outputs": [],
   "source": [
    "# Imports\n",
    "import csv\n",
    "import os\n",
    "from pathlib import Path"
   ]
  },
  {
   "cell_type": "code",
   "execution_count": 53,
   "id": "89ddcf00-4a0f-41d2-a9c4-d47f693af0c3",
   "metadata": {},
   "outputs": [],
   "source": [
    "# Define the file path to the CSV file\n",
    "csvpath = \"budget_data.csv\""
   ]
  },
  {
   "cell_type": "code",
   "execution_count": 54,
   "id": "c77fdc37-003f-4b60-b5f1-150a852fd27d",
   "metadata": {},
   "outputs": [],
   "source": [
    "#Variables\n",
    "total_months = 0\n",
    "total_profit_losses = 0\n",
    "changes_in_profit_losses = []\n",
    "greatest_increase_date = \"\"\n",
    "greatest_increase_amount = 0\n",
    "greatest_decrease_date = \"\"\n",
    "greatest_decrease_amount = 0"
   ]
  },
  {
   "cell_type": "code",
   "execution_count": 55,
   "id": "406ed58f-51d5-43f2-bf46-dee835144f01",
   "metadata": {},
   "outputs": [],
   "source": [
    "# Read data from CSV file\n",
    "with open(csvpath) as csvfile:\n",
    "    csvreader = csv.reader(csvfile, delimiter=\",\")\n",
    "    header = next(csvreader, None)\n",
    "    previous_profit_loss = None\n",
    "\n",
    "# Move your code that relies on reading from the CSV file inside this block\n",
    "    for row in csvreader:\n",
    "        # Calculate total number of months\n",
    "        total_months += 1\n",
    "        # Calculate total Profit/Losses\n",
    "        total_profit_losses += int(row[1])\n",
    "        # Store Profit/Loss for later change calculation\n",
    "        profit_loss = int(row[1])\n",
    "        if previous_profit_loss is not None:\n",
    "            change_in_profit_loss = profit_loss - previous_profit_loss\n",
    "            changes_in_profit_losses.append(change_in_profit_loss)\n",
    "        # Check for the greatest increase in profits\n",
    "        if profit_loss > greatest_increase_amount:\n",
    "            greatest_increase_amount = profit_loss\n",
    "            greatest_increase_date = row[1]\n",
    "        # Check for the greatest decrease in losses\n",
    "        if profit_loss < greatest_decrease_amount:\n",
    "            greatest_decrease_amount = profit_loss\n",
    "            greatest_decrease_date = row[1]\n",
    "\n",
    "        previous_profit_loss = profit_loss\n",
    "\n",
    "# Calculate average change in Profit/Losses\n",
    "average_change = sum(changes_in_profit_losses) / (total_months - 1)"
   ]
  },
  {
   "cell_type": "code",
   "execution_count": 56,
   "id": "dae34a0b-38a1-4ffd-85be-613b20df1dab",
   "metadata": {},
   "outputs": [
    {
     "name": "stdout",
     "output_type": "stream",
     "text": [
      "Financial Analysis\n",
      "----------------------------\n",
      "Total Months: 86\n",
      "Total: $38382578\n",
      "Average Change: $-2315.12\n",
      "Greatest Increase in Profits: 1170593 ($1170593)\n",
      "Greatest Decrease in Profits: -1196225 ($-1196225)\n"
     ]
    }
   ],
   "source": [
    "# Print the financial analysis results\n",
    "print(\"Financial Analysis\")\n",
    "print(\"----------------------------\")\n",
    "print(f\"Total Months: {total_months}\")\n",
    "print(f\"Total: ${total_profit_losses}\")\n",
    "print(f\"Average Change: ${average_change:.2f}\")\n",
    "print(f\"Greatest Increase in Profits: {greatest_increase_date} (${greatest_increase_amount})\")\n",
    "print(f\"Greatest Decrease in Profits: {greatest_decrease_date} (${greatest_decrease_amount})\")"
   ]
  },
  {
   "cell_type": "code",
   "execution_count": 57,
   "id": "8f55f744-c15f-43a8-a7ae-c666186cf583",
   "metadata": {},
   "outputs": [
    {
     "name": "stdout",
     "output_type": "stream",
     "text": [
      "Results exported to financial_analysis_results.txt\n"
     ]
    }
   ],
   "source": [
    "# Export results to txt file\n",
    "output_file_path = 'financial_analysis_results.txt'\n",
    "with open(output_file_path, 'w') as output_file:\n",
    "    output_file.write(\"Financial Analysis\\n\")\n",
    "    output_file.write(\"----------------------------\\n\")\n",
    "    output_file.write(f\"Total Months: {total_months}\\n\")\n",
    "    output_file.write(f\"Total: ${total_profit_losses}\\n\")\n",
    "    output_file.write(f\"Average Change: ${average_change:.2f}\\n\")\n",
    "    output_file.write(f\"Greatest Increase in Profits: {greatest_increase_date} (${greatest_increase_amount})\\n\")\n",
    "    output_file.write(f\"Greatest Decrease in Profits: {greatest_decrease_date} (${greatest_decrease_amount})\\n\")\n",
    "\n",
    "print(f\"Results exported to {output_file_path}\")"
   ]
  },
  {
   "cell_type": "code",
   "execution_count": null,
   "id": "f6c6f821-206b-4cf4-892b-d6eb2e8f8a0d",
   "metadata": {},
   "outputs": [],
   "source": []
  }
 ],
 "metadata": {
  "kernelspec": {
   "display_name": "Python 3 (ipykernel)",
   "language": "python",
   "name": "python3"
  },
  "language_info": {
   "codemirror_mode": {
    "name": "ipython",
    "version": 3
   },
   "file_extension": ".py",
   "mimetype": "text/x-python",
   "name": "python",
   "nbconvert_exporter": "python",
   "pygments_lexer": "ipython3",
   "version": "3.11.5"
  }
 },
 "nbformat": 4,
 "nbformat_minor": 5
}
